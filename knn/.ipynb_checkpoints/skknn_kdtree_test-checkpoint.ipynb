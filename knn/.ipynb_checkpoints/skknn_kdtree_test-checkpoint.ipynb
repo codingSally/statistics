{
 "cells": [
  {
   "cell_type": "code",
   "execution_count": 10,
   "metadata": {},
   "outputs": [],
   "source": [
    "import numpy as np\n",
    "import time\n",
    "from collections import Counter\n",
    "from slknn_base import SLKNN\n",
    "\n",
    "# KD_tree的每个节点\n",
    "class Node:\n",
    "    def __init__(self, data, label, depth=0, lchild=None, rchild=None):\n",
    "        # 具体的某一个样本数据\n",
    "        self.data = data \n",
    "        # 数据的标签\n",
    "        self.label = label\n",
    "        self.depth = depth\n",
    "        self.lchild = lchild\n",
    "        self.rchild = rchild\n",
    "        \n",
    "class KdTree:\n",
    "    def __init__(self, dataSet, label):\n",
    "        # dataSet 训练or测试数据集\n",
    "        # label训练or测试标签数据集\n",
    "        self.KdTree = None\n",
    "        self.features_n = 0 #特征数\n",
    "        self.nearest = None\n",
    "        self.create(dataSet, label)\n",
    "     \n",
    "    #建立KdTree\n",
    "    def create(self, dataSet, label, depth = 0):\n",
    "        if len(dataSet) > 0:\n",
    "            # np.shape 返回的数据显示为【行数【样本数】，每个行中的每个数据是几维的【特征数】】\n",
    "            samples_n,features_n = np.shape(dataSet) \n",
    "            self.features_n = features_n\n",
    "            # axis是切分的超平面  超平面l = j(mod k) + 1 其中l 是超平面  k是维度\n",
    "            axis = depth % self.features_n # 这里不加1，是因为python的数据下表从0开始\n",
    "            mid = int(samples_n / 2)\n",
    "            dataSetcopy = sorted(dataSet, key = lambda x : x[axis])\n",
    "            node = Node(dataSetcopy[mid], label[mid], depth)\n",
    "            if depth == 0:\n",
    "                self.KdTree = node\n",
    "            node.lchild = self.create(dataSetcopy[:mid], label, depth+1)\n",
    "            node.rchild = self.create(dataSetcopy[mid+1:], label, depth+1)\n",
    "            return node\n",
    "        return None\n",
    "    \n",
    "    # 前序遍历\n",
    "    def preOrder(self, node):\n",
    "        if node is not None:\n",
    "            print(node.depth, node.data)\n",
    "            preOrder(node.lchild)\n",
    "            preOrder(node.rchild)\n",
    "    \n",
    "    # 搜索kdtree的前k个近邻点 x是测试点\n",
    "    def search(self, x, k = 1):\n",
    "        print(\"开始搜索\")\n",
    "        nearest = []\n",
    "        for i in range(k):\n",
    "            nearest.append([-1, None])\n",
    "        # 初始化n个点，nearest距离递减\n",
    "        self.nearest = np.array(nearest)\n",
    "           \n",
    "        def recurve(node):\n",
    "            print(\"开始遍历\")\n",
    "            if node is not None:\n",
    "                # 计算当前点的维度\n",
    "                axis = node.depth % self.features_n\n",
    "                # 计算测试点和当前点在axis维度上的差\n",
    "                daxis = x[axis] - node.data[axis]\n",
    "                # 如果小于，进入左子树\n",
    "                if daxis < 0 :\n",
    "                    recurve(node.lchild)\n",
    "                else:\n",
    "                    recurve(node.rchild)\n",
    "                # 计算预测点到当前点的距离dist\n",
    "#                 dist = np.sqrt(np.sum(np.square(x - node.data)))\n",
    "                dist = np.sqrt(np.sum(np.square(x - node.data)))\n",
    "                for i , d in enumerate(self.nearest):\n",
    "                    # 如果有比现在最近的n个点更近的点，更新最近的点\n",
    "                    if d[0] < 0 or dist < d[0]:\n",
    "                        # 插入第i个位置的点\n",
    "                        self.nearest = np.insert(self.nearest, i, [dist, node], axis = 0)\n",
    "                        # 删除最后一个多出来的点\n",
    "                        self.nearest = self.nearest[:-1]\n",
    "                        break\n",
    "                        \n",
    "                 # 统计距离为-1 的个数\n",
    "                features_n = list(self.nearest[:,0]).count(-1)\n",
    "                print(features_n)   \n",
    "                print(self.nearest[-features_n-1,0])\n",
    "                if self.nearest[-features_n-1,0] > abs(daxis):\n",
    "                    if daxis < 0:\n",
    "                        recurve(node.rchild)\n",
    "                    else:\n",
    "                        recurve(node.lchild)\n",
    "        recurve(self.KdTree)\n",
    "\n",
    "        # nodeList是最近n个点的\n",
    "        nodeList = self.nearest[:, 1]\n",
    "\n",
    "        # knn是n个点的标签\n",
    "        knn = [node.label for node in nodeList]\n",
    "        return nodeList, Counter(knn).most_common()[0][0]\n"
   ]
  },
  {
   "cell_type": "code",
   "execution_count": 11,
   "metadata": {},
   "outputs": [],
   "source": [
    "class SLKNNKdTree(SLKNN):\n",
    "    \n",
    "    def __init__(self, k = 3, p = 2):\n",
    "        super(SLKNNKdTree, self).__init__(k = k, p = p)\n",
    "    \n",
    "    def fit(self, X_train, y_train):\n",
    "        self.X_train = np.array(X_train)\n",
    "        self.y_train = np.array(y_train)\n",
    "        self.kdTree = KdTree(self.X_train, self.y_train)\n",
    "        \n",
    "    \n",
    "    def predict(self, point):\n",
    "        nearest,label = self.kdTree.search(point, self.k)\n",
    "        return nearest, label\n",
    "    \n",
    "    def score(self, X_test, y_test):\n",
    "        right_count = 0\n",
    "        for X, y in zip(X_test, y_test):\n",
    "            _, label = self.predict(X)\n",
    "            if(label == y):\n",
    "                right_count += 1\n",
    "        return right_count/len(X_test)"
   ]
  },
  {
   "cell_type": "code",
   "execution_count": 12,
   "metadata": {},
   "outputs": [],
   "source": [
    "def simpleTest():\n",
    "    data = [[2, 3], [5, 4], [9, 6], [4, 7], [8, 1], [7, 2]]\n",
    "    label = [0, 1, 0, 1, 1, 1]\n",
    "    kdtree = SLKNNKdTree()\n",
    "    kdtree.fit(data, label)\n",
    "    _, predict_label = kdtree.predict([7, 1])\n",
    "    print(\"predict label:\", predict_label)"
   ]
  },
  {
   "cell_type": "code",
   "execution_count": 13,
   "metadata": {},
   "outputs": [
    {
     "name": "stdout",
     "output_type": "stream",
     "text": [
      "开始搜索\n",
      "开始遍历\n",
      "开始遍历\n",
      "开始遍历\n",
      "开始遍历\n",
      "2\n",
      "1.0\n",
      "1\n",
      "5.385164807134504\n",
      "开始遍历\n",
      "0\n",
      "5.385164807134504\n",
      "开始遍历\n",
      "开始遍历\n",
      "开始遍历\n",
      "0\n",
      "5.385164807134504\n",
      "开始遍历\n",
      "0\n",
      "3.605551275463989\n",
      "开始遍历\n",
      "开始遍历\n",
      "0\n",
      "3.605551275463989\n",
      "开始遍历\n",
      "predict label: 1\n"
     ]
    }
   ],
   "source": [
    "simpleTest()"
   ]
  },
  {
   "cell_type": "code",
   "execution_count": 22,
   "metadata": {},
   "outputs": [
    {
     "data": {
      "text/plain": [
       "array(['1', '2', '3', '4', '5'], dtype='<U11')"
      ]
     },
     "execution_count": 22,
     "metadata": {},
     "output_type": "execute_result"
    }
   ],
   "source": [
    "arr = np.array([[1,'a'],[2,'b'],[3,'c'],[4,'d'],[5,'e']])\n",
    "arr[:,0]\n"
   ]
  },
  {
   "cell_type": "code",
   "execution_count": 41,
   "metadata": {},
   "outputs": [
    {
     "data": {
      "text/plain": [
       "2"
      ]
     },
     "execution_count": 41,
     "metadata": {},
     "output_type": "execute_result"
    }
   ],
   "source": [
    "dd = [1,2,3,4]\n",
    "dd[-3]"
   ]
  },
  {
   "cell_type": "code",
   "execution_count": null,
   "metadata": {},
   "outputs": [],
   "source": []
  }
 ],
 "metadata": {
  "kernelspec": {
   "display_name": "Python 3",
   "language": "python",
   "name": "python3"
  },
  "language_info": {
   "codemirror_mode": {
    "name": "ipython",
    "version": 3
   },
   "file_extension": ".py",
   "mimetype": "text/x-python",
   "name": "python",
   "nbconvert_exporter": "python",
   "pygments_lexer": "ipython3",
   "version": "3.7.5"
  }
 },
 "nbformat": 4,
 "nbformat_minor": 2
}
