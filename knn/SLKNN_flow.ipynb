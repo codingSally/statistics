{
 "cells": [
  {
   "cell_type": "code",
   "execution_count": 5,
   "metadata": {},
   "outputs": [],
   "source": [
    "import numpy as np\n",
    "import matplotlib.pyplot as plt"
   ]
  },
  {
   "cell_type": "code",
   "execution_count": 12,
   "metadata": {},
   "outputs": [],
   "source": [
    "raw_X = np.random.random((10,2))               "
   ]
  },
  {
   "cell_type": "code",
   "execution_count": 13,
   "metadata": {},
   "outputs": [
    {
     "name": "stdout",
     "output_type": "stream",
     "text": [
      "[[0.94028871 0.48691551]\n",
      " [0.29275429 0.37181176]\n",
      " [0.94310866 0.0214984 ]\n",
      " [0.44350786 0.09801033]\n",
      " [0.82062003 0.95833238]\n",
      " [0.47443388 0.14885549]\n",
      " [0.59730998 0.02656926]\n",
      " [0.489635   0.03579423]\n",
      " [0.47727116 0.98216781]\n",
      " [0.89583127 0.71925587]]\n"
     ]
    }
   ],
   "source": [
    "print(raw_X)"
   ]
  },
  {
   "cell_type": "code",
   "execution_count": 14,
   "metadata": {},
   "outputs": [],
   "source": [
    "raw_y = [0, 0, 0, 0, 0, 1, 1, 1, 1, 1]"
   ]
  },
  {
   "cell_type": "code",
   "execution_count": 15,
   "metadata": {},
   "outputs": [],
   "source": [
    "X_train = np.array(raw_X)\n",
    "y_train = np.array(raw_y)"
   ]
  },
  {
   "cell_type": "code",
   "execution_count": 18,
   "metadata": {},
   "outputs": [
    {
     "name": "stdout",
     "output_type": "stream",
     "text": [
      "[[0.94028871 0.48691551]\n",
      " [0.29275429 0.37181176]\n",
      " [0.94310866 0.0214984 ]\n",
      " [0.44350786 0.09801033]\n",
      " [0.82062003 0.95833238]\n",
      " [0.47443388 0.14885549]\n",
      " [0.59730998 0.02656926]\n",
      " [0.489635   0.03579423]\n",
      " [0.47727116 0.98216781]\n",
      " [0.89583127 0.71925587]]\n",
      "[0 0 0 0 0 1 1 1 1 1]\n"
     ]
    }
   ],
   "source": [
    "print(X_train)\n",
    "print(y_train)"
   ]
  },
  {
   "cell_type": "code",
   "execution_count": 19,
   "metadata": {},
   "outputs": [
    {
     "data": {
      "image/png": "[encoded data removed]",
      "text/plain": [
       "<Figure size 432x288 with 1 Axes>"
      ]
     },
     "metadata": {
      "needs_background": "light"
     },
     "output_type": "display_data"
    }
   ],
   "source": [
    "plt.scatter(X_train[y_train==0,0], X_train[y_train==0,1], color='g')\n",
    "plt.scatter(X_train[y_train==1,0], X_train[y_train==1,1], color='r')\n",
    "plt.show()"
   ]
  },
  {
   "cell_type": "code",
   "execution_count": 22,
   "metadata": {},
   "outputs": [
    {
     "data": {
      "image/png": "[encoded data removed]",
      "text/plain": [
       "<Figure size 432x288 with 1 Axes>"
      ]
     },
     "metadata": {
      "needs_background": "light"
     },
     "output_type": "display_data"
    }
   ],
   "source": [
    "x = np.array([0.72062003, 0.85833238])\n",
    "plt.scatter(X_train[y_train==0,0],X_train[y_train==0,1],color=\"g\")\n",
    "plt.scatter(X_train[y_train==1,0],X_train[y_train==1,1],color=\"r\")\n",
    "plt.scatter(x[0],x[1],color=\"b\")\n",
    "plt.show()"
   ]
  },
  {
   "cell_type": "code",
   "execution_count": 24,
   "metadata": {},
   "outputs": [
    {
     "name": "stdout",
     "output_type": "stream",
     "text": [
      "[0.43151456435081514, 0.647897684498344, 0.8659054763720561, 0.8092470446949949, 0.1414213505809455, 0.7509760832882968, 0.8408538902795051, 0.8543553717639327, 0.2730455731179238, 0.2236990210916178]\n"
     ]
    }
   ],
   "source": [
    "from math import sqrt\n",
    "\n",
    "distances = [sqrt(np.sum((x - x_train) ** 2)) for x_train in X_train]\n",
    "\n",
    "print(distances)"
   ]
  },
  {
   "cell_type": "code",
   "execution_count": 27,
   "metadata": {},
   "outputs": [
    {
     "name": "stdout",
     "output_type": "stream",
     "text": [
      "[4 9 8 0 1 5 3 6 7 2]\n"
     ]
    }
   ],
   "source": [
    "nearest = np.argsort(distances)\n",
    "print(nearest)"
   ]
  },
  {
   "cell_type": "code",
   "execution_count": 28,
   "metadata": {},
   "outputs": [
    {
     "name": "stdout",
     "output_type": "stream",
     "text": [
      "[0, 1, 1]\n"
     ]
    }
   ],
   "source": [
    "k = 3\n",
    "\n",
    "top_y = [y_train[i] for i in nearest[:k]]\n",
    "\n",
    "print(top_y)"
   ]
  },
  {
   "cell_type": "code",
   "execution_count": 36,
   "metadata": {},
   "outputs": [
    {
     "data": {
      "text/plain": [
       "array([0.94028871, 0.29275429, 0.94310866, 0.44350786, 0.82062003])"
      ]
     },
     "execution_count": 36,
     "metadata": {},
     "output_type": "execute_result"
    }
   ],
   "source": [
    "X_train[[ True,  True,  True,  True,  True, False, False, False, False,\n",
    "       False],[0]]"
   ]
  },
  {
   "cell_type": "code",
   "execution_count": 31,
   "metadata": {},
   "outputs": [
    {
     "data": {
      "text/plain": [
       "array([ True,  True,  True,  True,  True, False, False, False, False,\n",
       "       False])"
      ]
     },
     "execution_count": 31,
     "metadata": {},
     "output_type": "execute_result"
    }
   ],
   "source": [
    "y_train=="
   ]
  },
  {
   "cell_type": "code",
   "execution_count": 45,
   "metadata": {},
   "outputs": [
    {
     "data": {
      "text/plain": [
       "array([0.94310866, 0.44350786, 0.82062003])"
      ]
     },
     "execution_count": 45,
     "metadata": {},
     "output_type": "execute_result"
    }
   ],
   "source": [
    "X_train[[ False,  False,  True,  True,  True, False, False, False, False,\n",
    "       False],[0]]"
   ]
  },
  {
   "cell_type": "code",
   "execution_count": 41,
   "metadata": {},
   "outputs": [
    {
     "data": {
      "text/plain": [
       "[array([ True,  True,  True,  True,  True, False, False, False, False,\n",
       "        False]), 0]"
      ]
     },
     "execution_count": 41,
     "metadata": {},
     "output_type": "execute_result"
    }
   ],
   "source": [
    "[y_train==0,0]"
   ]
  },
  {
   "cell_type": "code",
   "execution_count": 55,
   "metadata": {},
   "outputs": [],
   "source": [
    "from math import sqrt\n",
    "\n",
    "distances = [sqrt(np.sum((x - x_train) ** 2)) for x_train in X_train]\n",
    "\n"
   ]
  },
  {
   "cell_type": "code",
   "execution_count": 56,
   "metadata": {},
   "outputs": [
    {
     "data": {
      "text/plain": [
       "[0.43151456435081514,\n",
       " 0.647897684498344,\n",
       " 0.8659054763720561,\n",
       " 0.8092470446949949,\n",
       " 0.1414213505809455,\n",
       " 0.7509760832882968,\n",
       " 0.8408538902795051,\n",
       " 0.8543553717639327,\n",
       " 0.2730455731179238,\n",
       " 0.2236990210916178]"
      ]
     },
     "execution_count": 56,
     "metadata": {},
     "output_type": "execute_result"
    }
   ],
   "source": [
    "distances"
   ]
  },
  {
   "cell_type": "code",
   "execution_count": 61,
   "metadata": {},
   "outputs": [],
   "source": [
    "dds = []\n",
    "for x_train in X_train:\n",
    "    td = sqrt(np.sum((x - x_train) ** 2))\n",
    "    dds.append(td)"
   ]
  },
  {
   "cell_type": "code",
   "execution_count": 62,
   "metadata": {},
   "outputs": [
    {
     "data": {
      "text/plain": [
       "[0.43151456435081514,\n",
       " 0.647897684498344,\n",
       " 0.8659054763720561,\n",
       " 0.8092470446949949,\n",
       " 0.1414213505809455,\n",
       " 0.7509760832882968,\n",
       " 0.8408538902795051,\n",
       " 0.8543553717639327,\n",
       " 0.2730455731179238,\n",
       " 0.2236990210916178]"
      ]
     },
     "execution_count": 62,
     "metadata": {},
     "output_type": "execute_result"
    }
   ],
   "source": [
    "dds"
   ]
  },
  {
   "cell_type": "code",
   "execution_count": null,
   "metadata": {},
   "outputs": [],
   "source": [
    "distancews = [sqrt(np.sum((x - x_train) ** 2)) for x_train in X_train]"
   ]
  },
  {
   "cell_type": "code",
   "execution_count": null,
   "metadata": {},
   "outputs": [],
   "source": [
    "distancews"
   ]
  },
  {
   "cell_type": "code",
   "execution_count": 1,
   "metadata": {},
   "outputs": [
    {
     "ename": "NameError",
     "evalue": "name 'random_points' is not defined",
     "output_type": "error",
     "traceback": [
      "\u001b[1;31m---------------------------------------------------------------------------\u001b[0m",
      "\u001b[1;31mNameError\u001b[0m                                 Traceback (most recent call last)",
      "\u001b[1;32m<ipython-input-1-b27ced47a19e>\u001b[0m in \u001b[0;36m<module>\u001b[1;34m\u001b[0m\n\u001b[1;32m----> 1\u001b[1;33m \u001b[0mdata\u001b[0m \u001b[1;33m=\u001b[0m \u001b[0mrandom_points\u001b[0m\u001b[1;33m(\u001b[0m\u001b[1;36m2\u001b[0m\u001b[1;33m,\u001b[0m \u001b[1;36m30\u001b[0m\u001b[1;33m)\u001b[0m\u001b[1;33m\u001b[0m\u001b[1;33m\u001b[0m\u001b[0m\n\u001b[0m\u001b[0;32m      2\u001b[0m \u001b[0mdata\u001b[0m\u001b[1;33m\u001b[0m\u001b[1;33m\u001b[0m\u001b[0m\n",
      "\u001b[1;31mNameError\u001b[0m: name 'random_points' is not defined"
     ]
    }
   ],
   "source": [
    "data = random_points(2, 30)\n",
    "data"
   ]
  },
  {
   "cell_type": "code",
   "execution_count": null,
   "metadata": {},
   "outputs": [],
   "source": []
  }
 ],
 "metadata": {
  "kernelspec": {
   "display_name": "Python 3",
   "language": "python",
   "name": "python3"
  },
  "language_info": {
   "codemirror_mode": {
    "name": "ipython",
    "version": 3
   },
   "file_extension": ".py",
   "mimetype": "text/x-python",
   "name": "python",
   "nbconvert_exporter": "python",
   "pygments_lexer": "ipython3",
   "version": "3.7.5"
  }
 },
 "nbformat": 4,
 "nbformat_minor": 2
}
